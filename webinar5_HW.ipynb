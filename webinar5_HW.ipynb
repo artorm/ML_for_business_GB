{
 "cells": [
  {
   "cell_type": "markdown",
   "metadata": {},
   "source": [
    "### Урок 5. #Задача оттока: варианты постановки, возможные способы решения##"
   ]
  },
  {
   "cell_type": "markdown",
   "metadata": {},
   "source": [
    "План занятия:\n",
    "\n",
    "1. что такое \"отток\"?\n",
    "2. задача оттока как часть процесса под названием customer relationship management\n",
    "3. для чего его (отток) прогнозировать?\n",
    "4. удержание пользователей\n",
    "5. анализ аудитории\n",
    "6. метрики удержания\n",
    "7. области применения\n",
    "8. Как оценить эффективность удержания аудитории"
   ]
  },
  {
   "cell_type": "markdown",
   "metadata": {},
   "source": [
    "### Что такое \"отток\"?"
   ]
  },
  {
   "cell_type": "markdown",
   "metadata": {},
   "source": [
    "Одно из определений:\n",
    "\n",
    "- отказ пользователя от некоторого продукта или услуги (сервиса)"
   ]
  },
  {
   "cell_type": "markdown",
   "metadata": {},
   "source": [
    "![ab_split](churn1.jpeg \"churn1\")"
   ]
  },
  {
   "cell_type": "markdown",
   "metadata": {},
   "source": [
    "\"Интуитивно\" понятие оттока понятно - был пользователь, который пользовался нашим сервисом, а потом вдруг перестал это делать. Примеры: перешел в другой банк, в другую телекоммуникационную компанию, стал пользоваться другим сервисом и т.д (в зависимости от того, какая у нас сфера)"
   ]
  },
  {
   "cell_type": "markdown",
   "metadata": {},
   "source": [
    "### customer relationship management"
   ]
  },
  {
   "cell_type": "markdown",
   "metadata": {},
   "source": [
    "- выстраивание взаимоотношений с пользователем\n",
    "- успешность кампании зависит от того как устроена работа с пользователями"
   ]
  },
  {
   "cell_type": "markdown",
   "metadata": {},
   "source": [
    "Таким образом, задача оттока - это часть процесса по выстраиванию взаимоотношений с клиентами, а не просто задача в вакууме"
   ]
  },
  {
   "cell_type": "markdown",
   "metadata": {},
   "source": [
    "Чем лучше у нас выстроен процесс работы с пользователями, тем успешнее наш бизнес в целом"
   ]
  },
  {
   "cell_type": "markdown",
   "metadata": {},
   "source": [
    "### Для чего прогнозировать отток?"
   ]
  },
  {
   "cell_type": "markdown",
   "metadata": {},
   "source": [
    "- Чем больше у нас пользователей, тем выше прибыль (особенно, если большая доля выручки - это рекламная монетизация)\n",
    "- Больше пользователей = привлечение новых + удержание существующих (уменьшение оттока уже существующих)\n",
    "- У привлечения новых и удержания \"старых\" разная экономическая эффективность"
   ]
  },
  {
   "cell_type": "markdown",
   "metadata": {},
   "source": [
    "#### Удержание стоит денег!"
   ]
  },
  {
   "cell_type": "markdown",
   "metadata": {},
   "source": [
    "Здесь вопрос уже в том, насколько \"дешево\" привлекать новых и \"дорого\" - удерживать старых"
   ]
  },
  {
   "cell_type": "markdown",
   "metadata": {},
   "source": [
    "Еще один момент - разные пользователи приносят нам разную прибыль (вспоминаем второе занятие)"
   ]
  },
  {
   "cell_type": "markdown",
   "metadata": {},
   "source": [
    "![ab_split](payments.png \"Payments\")"
   ]
  },
  {
   "cell_type": "markdown",
   "metadata": {},
   "source": [
    "Очень может быть, что попробовать удержать \"китов\" будет гораздо выгоднее привлечения новых пользователей"
   ]
  },
  {
   "cell_type": "markdown",
   "metadata": {},
   "source": [
    "### Удержание"
   ]
  },
  {
   "cell_type": "markdown",
   "metadata": {},
   "source": [
    "![ab_split](churn2.png \"churn2\")"
   ]
  },
  {
   "cell_type": "markdown",
   "metadata": {},
   "source": [
    "А что если удерживать всех пользователей?"
   ]
  },
  {
   "cell_type": "markdown",
   "metadata": {},
   "source": [
    "![ab_split](thinking.jpg \"thinking\")"
   ]
  },
  {
   "cell_type": "markdown",
   "metadata": {},
   "source": [
    "Это будет очень дорого и неэффективно!"
   ]
  },
  {
   "cell_type": "markdown",
   "metadata": {},
   "source": [
    "Особенности процесса удержания:\n",
    "\n",
    "- адресное удержание\n",
    "- удержание происходит не всегда быстро (это занимает некоторое время + нужно оценить результаты)"
   ]
  },
  {
   "cell_type": "markdown",
   "metadata": {},
   "source": [
    "Удержание состоит из следующих этапов:\n",
    "1. определить сегмент, кого удерживать (это как раз наша часть)\n",
    "2. определить, что предлагать\n",
    "3. сделать предложение\n",
    "4. дождаться реакции\n",
    "5. оценить результаты"
   ]
  },
  {
   "cell_type": "markdown",
   "metadata": {},
   "source": [
    "При этом прогноз должен быть сделан немного раньше, чем когда пользователь уже уйдет)"
   ]
  },
  {
   "cell_type": "markdown",
   "metadata": {},
   "source": [
    "### Анализ аудитории"
   ]
  },
  {
   "cell_type": "markdown",
   "metadata": {},
   "source": [
    "Место задачи оттока в анализе поведения пользователей"
   ]
  },
  {
   "cell_type": "markdown",
   "metadata": {},
   "source": [
    "- описание аудитории (сегментация по разным показателям) - второе занятие\n",
    "- привлечение новых пользователей\n",
    "- работа с пользовтаелями: вовлеченность, влияние на показатели\n",
    "- <b>прогнозирование оттока</b>\n",
    "- удержание"
   ]
  },
  {
   "cell_type": "markdown",
   "metadata": {},
   "source": [
    "### Метрики удержания"
   ]
  },
  {
   "cell_type": "markdown",
   "metadata": {},
   "source": [
    "- return rate (конверсия возврата)\n",
    "- churn rate (конверсия оттока)\n",
    "- N-day retention (удержание на день N)"
   ]
  },
  {
   "cell_type": "markdown",
   "metadata": {},
   "source": [
    "return rate = (текущее количество активных пользователей из набора данных)/(общее количество пользователей из набора данных)*100"
   ]
  },
  {
   "cell_type": "markdown",
   "metadata": {},
   "source": [
    "churn rate = (количество пользователей из набора данных, ушедших в отток)/(общее количество пользователей из набора данных)*100"
   ]
  },
  {
   "cell_type": "markdown",
   "metadata": {},
   "source": [
    "<b>Что значит фраза \"пользователь ушел в отток?\"</b>"
   ]
  },
  {
   "cell_type": "markdown",
   "metadata": {},
   "source": [
    "Ответ сильно зависит от сферы."
   ]
  },
  {
   "cell_type": "markdown",
   "metadata": {},
   "source": [
    "В общем случае ответ на вроде бы простой вопрос \"ушел ли от нас пользователь\" - нетривиален"
   ]
  },
  {
   "cell_type": "markdown",
   "metadata": {},
   "source": [
    "#### Удержание N-го дня"
   ]
  },
  {
   "cell_type": "markdown",
   "metadata": {},
   "source": [
    "- 1-day retention\n",
    "- 3-day retention\n",
    "- 7-day retention\n",
    "- etc"
   ]
  },
  {
   "cell_type": "markdown",
   "metadata": {},
   "source": [
    "Какая доля пользователей остается с нами на N-й день после установки (первой сессии)"
   ]
  },
  {
   "cell_type": "markdown",
   "metadata": {},
   "source": [
    "### Области применения"
   ]
  },
  {
   "cell_type": "markdown",
   "metadata": {},
   "source": [
    "- B2C\n",
    "- сферы, где распространение приближается к 100 процентам (приведите пример)"
   ]
  },
  {
   "cell_type": "markdown",
   "metadata": {},
   "source": [
    "Примеры:\n",
    "\n",
    "- банки\n",
    "- телеком\n",
    "- страховые компании\n",
    "- e-commerce, ритейл\n",
    "- мобильные сервисы\n",
    "- прочее"
   ]
  },
  {
   "cell_type": "markdown",
   "metadata": {},
   "source": [
    "### Как оценить эффективность удержания аудитории"
   ]
  },
  {
   "cell_type": "markdown",
   "metadata": {},
   "source": [
    "Можно выделить несколько шагов:\n",
    "\n",
    "1. провести анализ аудитории: сегментация, ключевые показатели и т.д\n",
    "2. формализовать постановку задачи и построить модель\n",
    "3. запустить компанию по удержанию (с учетом прогнозов п.2) и оценить результаты"
   ]
  },
  {
   "cell_type": "markdown",
   "metadata": {},
   "source": [
    "Анализ пользователей делается с целью ответить на следующие вопросы:\n",
    "\n",
    "1. существует ли проблема оттока в принципе\n",
    "2. доля пользователей, уходящих в отток\n",
    "3. сколько мы из-за этого теряем"
   ]
  },
  {
   "cell_type": "markdown",
   "metadata": {},
   "source": [
    "Неплохо еще построить экономическую модель, которая будет давать оценку в денежном выражении.\n",
    "\n",
    "Например: если у меня уходит X пользователей в сутки и я смогу удерживать Y из них, потратив N денег, то смогу ли я заработать больше N на их удержании?"
   ]
  },
  {
   "cell_type": "markdown",
   "metadata": {},
   "source": [
    "Задачу точно имеет смысл решать, если вы сможете принести больше, чем потратите!\n",
    "\n",
    "В противном случае вопрос остается открытым"
   ]
  },
  {
   "cell_type": "markdown",
   "metadata": {},
   "source": [
    "### Постановка задачи"
   ]
  },
  {
   "cell_type": "markdown",
   "metadata": {},
   "source": [
    "1. определяем что мы считаем оттоком\n",
    "2. выбираем тип задачи (модели - бинарная/многоклассовая классификация, регрессия и т.д)\n",
    "3. определяем горизонт прогнозирования (с учетом времени на удержание)\n",
    "4. решаем, как именно мы будем оценивать качество нашей будущей модели (метрики)\n",
    "5. планируем дизайн эксперимента"
   ]
  },
  {
   "cell_type": "markdown",
   "metadata": {},
   "source": [
    "Допустим, что мы умеем уже определить понятие \"отток\" (например, воспользовавшись методом из статьи https://arxiv.org/pdf/1907.03947.pdf)"
   ]
  },
  {
   "cell_type": "markdown",
   "metadata": {},
   "source": [
    "Необходимо спланировать, как будет выглядеть кампания по удержанию"
   ]
  },
  {
   "cell_type": "markdown",
   "metadata": {},
   "source": [
    "- какие у нас каналы взаимодействия с пользователем\n",
    "- какое время взаимодействия\n",
    "- что мы предлагаем"
   ]
  },
  {
   "cell_type": "markdown",
   "metadata": {},
   "source": [
    "Теперь нам нужно вспомнить первое занятие и понятие \"продуктовой гипотезы\""
   ]
  },
  {
   "cell_type": "markdown",
   "metadata": {},
   "source": [
    "Пример формулировки продуктовой гипотезы:"
   ]
  },
  {
   "cell_type": "markdown",
   "metadata": {},
   "source": [
    "\"Базируясь на предположении, что модель машинного обучения сможет сегментировать пользователей на тех, кто уходит в отток и нет, <b>не превышая ошибку в X%</b>, мы предполагаем, что реализовав такую систему прогнозирования вероятности оттока, основанную на ML, мы сможем выделить сегмент пользователей, которые собираются уйти в отток и провести кампанию по удержанию, что приведет к тому, что большинство таких пользователей останутся с нами в будущем. Мы увидим это по <b>увеличению доли пользователей, оставшихся с нами на день N</b> ,и можем измерить ее с помощью метрики <b>удержание N-го дня</b>. Мы полагаем, что изменение приведет к хорошим результатам для компании, т.к увеличит удержание пользователей и, как следствие, увеличение выручки для компании\""
   ]
  },
  {
   "cell_type": "markdown",
   "metadata": {},
   "source": [
    "Метрика1 (основная) - N-day retention\n",
    "\n",
    "* ML-модель может ошибаться и в итоге в кампанию по удержанию попадут в том числе и те игроки, которые не собирались от нас уходить. Как следствие, на их удержание будут потрачены деньги (им будет сделано более выгодное предложение, хотя этого можно было и не делать)"
   ]
  },
  {
   "cell_type": "markdown",
   "metadata": {},
   "source": [
    "### Сбор данных и построение модели"
   ]
  },
  {
   "cell_type": "markdown",
   "metadata": {},
   "source": [
    "После того, как мы сформулировали гипотезу и выбрали метрику, мы можем уже собрать датасет и обучить модель"
   ]
  },
  {
   "cell_type": "markdown",
   "metadata": {},
   "source": [
    "Во второй части занятия мы рассмотрим пример построения такой модели, а сейчас продолжим уже по шагам, представив что модель у нас уже есть"
   ]
  },
  {
   "cell_type": "markdown",
   "metadata": {},
   "source": [
    "### Планирование эксперимента"
   ]
  },
  {
   "cell_type": "markdown",
   "metadata": {},
   "source": [
    "При наличии модели с приемлемым качеством мы уже можем спланировать и провести эксперимент\n",
    "\n",
    "1. скорим всю нашу аудиторию модель прогнозирования оттока и получаем вероятности оттока для каждого пользователя\n",
    "2. сортируем пользователей по убыванию вероятности и берем топ Y%\n",
    "3. проводим кампанию по удержанию полученной выборки\n",
    "4. оцениваем результаты (превышает ли выручка от удержания расходы на это самое удержание)"
   ]
  },
  {
   "cell_type": "markdown",
   "metadata": {},
   "source": [
    "Не всегда эксперимент - это именно АБ-тестирование!"
   ]
  },
  {
   "cell_type": "markdown",
   "metadata": {},
   "source": [
    "## ПЕРЕРЫВ ДО 20:57"
   ]
  },
  {
   "cell_type": "markdown",
   "metadata": {},
   "source": [
    "### Практика"
   ]
  },
  {
   "cell_type": "markdown",
   "metadata": {},
   "source": [
    "Давайте поработаем с набором данных с платформы kaggle https://www.kaggle.com/adammaus/predicting-churn-for-bank-customers по оттоку клиентов банка"
   ]
  },
  {
   "cell_type": "code",
   "execution_count": 1,
   "metadata": {},
   "outputs": [],
   "source": [
    "import pandas as pd\n",
    "import numpy as np\n",
    "from sklearn.pipeline import Pipeline, make_pipeline\n",
    "from sklearn.base import BaseEstimator, TransformerMixin\n",
    "from sklearn.linear_model import LogisticRegression\n",
    "from sklearn.model_selection import train_test_split\n",
    "from sklearn.feature_extraction.text import TfidfVectorizer\n",
    "from sklearn.preprocessing import StandardScaler, MinMaxScaler, normalize\n",
    "import itertools\n",
    "\n",
    "import matplotlib.pyplot as plt\n",
    "\n",
    "%matplotlib inline"
   ]
  },
  {
   "cell_type": "code",
   "execution_count": 2,
   "metadata": {},
   "outputs": [
    {
     "data": {
      "text/html": [
       "<div>\n",
       "<style scoped>\n",
       "    .dataframe tbody tr th:only-of-type {\n",
       "        vertical-align: middle;\n",
       "    }\n",
       "\n",
       "    .dataframe tbody tr th {\n",
       "        vertical-align: top;\n",
       "    }\n",
       "\n",
       "    .dataframe thead th {\n",
       "        text-align: right;\n",
       "    }\n",
       "</style>\n",
       "<table border=\"1\" class=\"dataframe\">\n",
       "  <thead>\n",
       "    <tr style=\"text-align: right;\">\n",
       "      <th></th>\n",
       "      <th>RowNumber</th>\n",
       "      <th>CustomerId</th>\n",
       "      <th>Surname</th>\n",
       "      <th>CreditScore</th>\n",
       "      <th>Geography</th>\n",
       "      <th>Gender</th>\n",
       "      <th>Age</th>\n",
       "      <th>Tenure</th>\n",
       "      <th>Balance</th>\n",
       "      <th>NumOfProducts</th>\n",
       "      <th>HasCrCard</th>\n",
       "      <th>IsActiveMember</th>\n",
       "      <th>EstimatedSalary</th>\n",
       "      <th>Exited</th>\n",
       "    </tr>\n",
       "  </thead>\n",
       "  <tbody>\n",
       "    <tr>\n",
       "      <th>0</th>\n",
       "      <td>1</td>\n",
       "      <td>15634602</td>\n",
       "      <td>Hargrave</td>\n",
       "      <td>619</td>\n",
       "      <td>France</td>\n",
       "      <td>Female</td>\n",
       "      <td>42</td>\n",
       "      <td>2</td>\n",
       "      <td>0.00</td>\n",
       "      <td>1</td>\n",
       "      <td>1</td>\n",
       "      <td>1</td>\n",
       "      <td>101348.88</td>\n",
       "      <td>1</td>\n",
       "    </tr>\n",
       "    <tr>\n",
       "      <th>1</th>\n",
       "      <td>2</td>\n",
       "      <td>15647311</td>\n",
       "      <td>Hill</td>\n",
       "      <td>608</td>\n",
       "      <td>Spain</td>\n",
       "      <td>Female</td>\n",
       "      <td>41</td>\n",
       "      <td>1</td>\n",
       "      <td>83807.86</td>\n",
       "      <td>1</td>\n",
       "      <td>0</td>\n",
       "      <td>1</td>\n",
       "      <td>112542.58</td>\n",
       "      <td>0</td>\n",
       "    </tr>\n",
       "    <tr>\n",
       "      <th>2</th>\n",
       "      <td>3</td>\n",
       "      <td>15619304</td>\n",
       "      <td>Onio</td>\n",
       "      <td>502</td>\n",
       "      <td>France</td>\n",
       "      <td>Female</td>\n",
       "      <td>42</td>\n",
       "      <td>8</td>\n",
       "      <td>159660.80</td>\n",
       "      <td>3</td>\n",
       "      <td>1</td>\n",
       "      <td>0</td>\n",
       "      <td>113931.57</td>\n",
       "      <td>1</td>\n",
       "    </tr>\n",
       "  </tbody>\n",
       "</table>\n",
       "</div>"
      ],
      "text/plain": [
       "   RowNumber  CustomerId   Surname  CreditScore Geography  Gender  Age  \\\n",
       "0          1    15634602  Hargrave          619    France  Female   42   \n",
       "1          2    15647311      Hill          608     Spain  Female   41   \n",
       "2          3    15619304      Onio          502    France  Female   42   \n",
       "\n",
       "   Tenure    Balance  NumOfProducts  HasCrCard  IsActiveMember  \\\n",
       "0       2       0.00              1          1               1   \n",
       "1       1   83807.86              1          0               1   \n",
       "2       8  159660.80              3          1               0   \n",
       "\n",
       "   EstimatedSalary  Exited  \n",
       "0        101348.88       1  \n",
       "1        112542.58       0  \n",
       "2        113931.57       1  "
      ]
     },
     "execution_count": 2,
     "metadata": {},
     "output_type": "execute_result"
    }
   ],
   "source": [
    "df = pd.read_csv(\"churn_data.csv\")\n",
    "df.head(3)"
   ]
  },
  {
   "cell_type": "markdown",
   "metadata": {},
   "source": [
    "Есть как категориальные, так и вещественные признаки. Поле CustomerId нужно будет удалить. \n",
    "\n",
    "Посмотрим на распределение классов:"
   ]
  },
  {
   "cell_type": "code",
   "execution_count": 3,
   "metadata": {},
   "outputs": [
    {
     "data": {
      "text/plain": [
       "0    7963\n",
       "1    2037\n",
       "Name: Exited, dtype: int64"
      ]
     },
     "execution_count": 3,
     "metadata": {},
     "output_type": "execute_result"
    }
   ],
   "source": [
    "df['Exited'].value_counts()"
   ]
  },
  {
   "cell_type": "code",
   "execution_count": 4,
   "metadata": {},
   "outputs": [],
   "source": [
    "sc_b = normalize([df[\"Balance\"]])\n",
    "sc_s = normalize([df[\"EstimatedSalary\"]])"
   ]
  },
  {
   "cell_type": "markdown",
   "metadata": {},
   "source": [
    "Не самое плохое распределение (1 к 4)"
   ]
  },
  {
   "cell_type": "code",
   "execution_count": 6,
   "metadata": {},
   "outputs": [],
   "source": [
    "df[\"Balance\"]=sc_b[0]\n",
    "df[\"EstimatedSalary\"]=sc_s[0]"
   ]
  },
  {
   "cell_type": "markdown",
   "metadata": {},
   "source": [
    "Давайте построим модель. Сразу же будем работать с использованием sklearn pipeline"
   ]
  },
  {
   "cell_type": "code",
   "execution_count": 7,
   "metadata": {},
   "outputs": [],
   "source": [
    "#разделим данные на train/test\n",
    "X_train, X_test, y_train, y_test = train_test_split(df, df['Exited'], random_state=0)"
   ]
  },
  {
   "cell_type": "code",
   "execution_count": 8,
   "metadata": {},
   "outputs": [
    {
     "data": {
      "text/html": [
       "<div>\n",
       "<style scoped>\n",
       "    .dataframe tbody tr th:only-of-type {\n",
       "        vertical-align: middle;\n",
       "    }\n",
       "\n",
       "    .dataframe tbody tr th {\n",
       "        vertical-align: top;\n",
       "    }\n",
       "\n",
       "    .dataframe thead th {\n",
       "        text-align: right;\n",
       "    }\n",
       "</style>\n",
       "<table border=\"1\" class=\"dataframe\">\n",
       "  <thead>\n",
       "    <tr style=\"text-align: right;\">\n",
       "      <th></th>\n",
       "      <th>RowNumber</th>\n",
       "      <th>CustomerId</th>\n",
       "      <th>Surname</th>\n",
       "      <th>CreditScore</th>\n",
       "      <th>Geography</th>\n",
       "      <th>Gender</th>\n",
       "      <th>Age</th>\n",
       "      <th>Tenure</th>\n",
       "      <th>Balance</th>\n",
       "      <th>NumOfProducts</th>\n",
       "      <th>HasCrCard</th>\n",
       "      <th>IsActiveMember</th>\n",
       "      <th>EstimatedSalary</th>\n",
       "      <th>Exited</th>\n",
       "    </tr>\n",
       "  </thead>\n",
       "  <tbody>\n",
       "    <tr>\n",
       "      <th>2967</th>\n",
       "      <td>2968</td>\n",
       "      <td>15595324</td>\n",
       "      <td>Daniels</td>\n",
       "      <td>579</td>\n",
       "      <td>Germany</td>\n",
       "      <td>Female</td>\n",
       "      <td>39</td>\n",
       "      <td>5</td>\n",
       "      <td>0.011938</td>\n",
       "      <td>3</td>\n",
       "      <td>0</td>\n",
       "      <td>0</td>\n",
       "      <td>0.000505</td>\n",
       "      <td>1</td>\n",
       "    </tr>\n",
       "    <tr>\n",
       "      <th>700</th>\n",
       "      <td>701</td>\n",
       "      <td>15803457</td>\n",
       "      <td>Hao</td>\n",
       "      <td>750</td>\n",
       "      <td>France</td>\n",
       "      <td>Female</td>\n",
       "      <td>32</td>\n",
       "      <td>5</td>\n",
       "      <td>0.000000</td>\n",
       "      <td>2</td>\n",
       "      <td>1</td>\n",
       "      <td>0</td>\n",
       "      <td>0.008283</td>\n",
       "      <td>0</td>\n",
       "    </tr>\n",
       "    <tr>\n",
       "      <th>3481</th>\n",
       "      <td>3482</td>\n",
       "      <td>15644686</td>\n",
       "      <td>Kennedy</td>\n",
       "      <td>729</td>\n",
       "      <td>Spain</td>\n",
       "      <td>Female</td>\n",
       "      <td>34</td>\n",
       "      <td>9</td>\n",
       "      <td>0.005400</td>\n",
       "      <td>2</td>\n",
       "      <td>1</td>\n",
       "      <td>1</td>\n",
       "      <td>0.003713</td>\n",
       "      <td>0</td>\n",
       "    </tr>\n",
       "    <tr>\n",
       "      <th>1621</th>\n",
       "      <td>1622</td>\n",
       "      <td>15777797</td>\n",
       "      <td>Kovalyova</td>\n",
       "      <td>689</td>\n",
       "      <td>Spain</td>\n",
       "      <td>Male</td>\n",
       "      <td>38</td>\n",
       "      <td>5</td>\n",
       "      <td>0.007606</td>\n",
       "      <td>1</td>\n",
       "      <td>1</td>\n",
       "      <td>1</td>\n",
       "      <td>0.000750</td>\n",
       "      <td>1</td>\n",
       "    </tr>\n",
       "    <tr>\n",
       "      <th>800</th>\n",
       "      <td>801</td>\n",
       "      <td>15747542</td>\n",
       "      <td>Perez</td>\n",
       "      <td>605</td>\n",
       "      <td>France</td>\n",
       "      <td>Male</td>\n",
       "      <td>52</td>\n",
       "      <td>7</td>\n",
       "      <td>0.000000</td>\n",
       "      <td>2</td>\n",
       "      <td>1</td>\n",
       "      <td>1</td>\n",
       "      <td>0.015069</td>\n",
       "      <td>0</td>\n",
       "    </tr>\n",
       "    <tr>\n",
       "      <th>...</th>\n",
       "      <td>...</td>\n",
       "      <td>...</td>\n",
       "      <td>...</td>\n",
       "      <td>...</td>\n",
       "      <td>...</td>\n",
       "      <td>...</td>\n",
       "      <td>...</td>\n",
       "      <td>...</td>\n",
       "      <td>...</td>\n",
       "      <td>...</td>\n",
       "      <td>...</td>\n",
       "      <td>...</td>\n",
       "      <td>...</td>\n",
       "      <td>...</td>\n",
       "    </tr>\n",
       "    <tr>\n",
       "      <th>9225</th>\n",
       "      <td>9226</td>\n",
       "      <td>15584928</td>\n",
       "      <td>Ugochukwutubelum</td>\n",
       "      <td>594</td>\n",
       "      <td>Germany</td>\n",
       "      <td>Female</td>\n",
       "      <td>32</td>\n",
       "      <td>4</td>\n",
       "      <td>0.012165</td>\n",
       "      <td>2</td>\n",
       "      <td>1</td>\n",
       "      <td>1</td>\n",
       "      <td>0.014117</td>\n",
       "      <td>0</td>\n",
       "    </tr>\n",
       "    <tr>\n",
       "      <th>4859</th>\n",
       "      <td>4860</td>\n",
       "      <td>15647111</td>\n",
       "      <td>White</td>\n",
       "      <td>794</td>\n",
       "      <td>Spain</td>\n",
       "      <td>Female</td>\n",
       "      <td>22</td>\n",
       "      <td>4</td>\n",
       "      <td>0.011594</td>\n",
       "      <td>1</td>\n",
       "      <td>1</td>\n",
       "      <td>1</td>\n",
       "      <td>0.009335</td>\n",
       "      <td>0</td>\n",
       "    </tr>\n",
       "    <tr>\n",
       "      <th>3264</th>\n",
       "      <td>3265</td>\n",
       "      <td>15574372</td>\n",
       "      <td>Hoolan</td>\n",
       "      <td>738</td>\n",
       "      <td>France</td>\n",
       "      <td>Male</td>\n",
       "      <td>35</td>\n",
       "      <td>5</td>\n",
       "      <td>0.016339</td>\n",
       "      <td>2</td>\n",
       "      <td>1</td>\n",
       "      <td>0</td>\n",
       "      <td>0.015717</td>\n",
       "      <td>0</td>\n",
       "    </tr>\n",
       "    <tr>\n",
       "      <th>9845</th>\n",
       "      <td>9846</td>\n",
       "      <td>15664035</td>\n",
       "      <td>Parsons</td>\n",
       "      <td>590</td>\n",
       "      <td>Spain</td>\n",
       "      <td>Female</td>\n",
       "      <td>38</td>\n",
       "      <td>9</td>\n",
       "      <td>0.000000</td>\n",
       "      <td>2</td>\n",
       "      <td>1</td>\n",
       "      <td>1</td>\n",
       "      <td>0.012886</td>\n",
       "      <td>0</td>\n",
       "    </tr>\n",
       "    <tr>\n",
       "      <th>2732</th>\n",
       "      <td>2733</td>\n",
       "      <td>15592816</td>\n",
       "      <td>Udokamma</td>\n",
       "      <td>623</td>\n",
       "      <td>Germany</td>\n",
       "      <td>Female</td>\n",
       "      <td>48</td>\n",
       "      <td>1</td>\n",
       "      <td>0.010949</td>\n",
       "      <td>1</td>\n",
       "      <td>1</td>\n",
       "      <td>0</td>\n",
       "      <td>0.010296</td>\n",
       "      <td>1</td>\n",
       "    </tr>\n",
       "  </tbody>\n",
       "</table>\n",
       "<p>7500 rows × 14 columns</p>\n",
       "</div>"
      ],
      "text/plain": [
       "      RowNumber  CustomerId           Surname  CreditScore Geography  Gender  \\\n",
       "2967       2968    15595324           Daniels          579   Germany  Female   \n",
       "700         701    15803457               Hao          750    France  Female   \n",
       "3481       3482    15644686           Kennedy          729     Spain  Female   \n",
       "1621       1622    15777797         Kovalyova          689     Spain    Male   \n",
       "800         801    15747542             Perez          605    France    Male   \n",
       "...         ...         ...               ...          ...       ...     ...   \n",
       "9225       9226    15584928  Ugochukwutubelum          594   Germany  Female   \n",
       "4859       4860    15647111             White          794     Spain  Female   \n",
       "3264       3265    15574372            Hoolan          738    France    Male   \n",
       "9845       9846    15664035           Parsons          590     Spain  Female   \n",
       "2732       2733    15592816          Udokamma          623   Germany  Female   \n",
       "\n",
       "      Age  Tenure   Balance  NumOfProducts  HasCrCard  IsActiveMember  \\\n",
       "2967   39       5  0.011938              3          0               0   \n",
       "700    32       5  0.000000              2          1               0   \n",
       "3481   34       9  0.005400              2          1               1   \n",
       "1621   38       5  0.007606              1          1               1   \n",
       "800    52       7  0.000000              2          1               1   \n",
       "...   ...     ...       ...            ...        ...             ...   \n",
       "9225   32       4  0.012165              2          1               1   \n",
       "4859   22       4  0.011594              1          1               1   \n",
       "3264   35       5  0.016339              2          1               0   \n",
       "9845   38       9  0.000000              2          1               1   \n",
       "2732   48       1  0.010949              1          1               0   \n",
       "\n",
       "      EstimatedSalary  Exited  \n",
       "2967         0.000505       1  \n",
       "700          0.008283       0  \n",
       "3481         0.003713       0  \n",
       "1621         0.000750       1  \n",
       "800          0.015069       0  \n",
       "...               ...     ...  \n",
       "9225         0.014117       0  \n",
       "4859         0.009335       0  \n",
       "3264         0.015717       0  \n",
       "9845         0.012886       0  \n",
       "2732         0.010296       1  \n",
       "\n",
       "[7500 rows x 14 columns]"
      ]
     },
     "execution_count": 8,
     "metadata": {},
     "output_type": "execute_result"
    }
   ],
   "source": [
    "X_train"
   ]
  },
  {
   "cell_type": "markdown",
   "metadata": {},
   "source": [
    "- Категориальные признаки закодируем с помощью OneHotEncoding\n",
    "- Вещественные оставим пока как есть"
   ]
  },
  {
   "cell_type": "code",
   "execution_count": 9,
   "metadata": {},
   "outputs": [],
   "source": [
    "#соберем наш простой pipeline, но нам понадобится написать класс для выбора нужного поля\n",
    "class FeatureSelector(BaseEstimator, TransformerMixin):\n",
    "    def __init__(self, column):\n",
    "        self.column = column\n",
    "\n",
    "    def fit(self, X, y=None):\n",
    "        return self\n",
    "\n",
    "    def transform(self, X, y=None):\n",
    "        return X[self.column]\n",
    "\n",
    "class NumberSelector(BaseEstimator, TransformerMixin):\n",
    "    \"\"\"\n",
    "    Transformer to select a single column from the data frame to perform additional transformations on\n",
    "    Use on numeric columns in the data\n",
    "    \"\"\"\n",
    "    def __init__(self, key):\n",
    "        self.key = key\n",
    "\n",
    "    def fit(self, X, y=None):\n",
    "        return self\n",
    "\n",
    "    def transform(self, X):\n",
    "        return X[[self.key]]\n",
    "    \n",
    "class OHEEncoder(BaseEstimator, TransformerMixin):\n",
    "    def __init__(self, key):\n",
    "        self.key = key\n",
    "        self.columns = []\n",
    "\n",
    "    def fit(self, X, y=None):\n",
    "        self.columns = [col for col in pd.get_dummies(X, prefix=self.key).columns]\n",
    "        return self\n",
    "\n",
    "    def transform(self, X):\n",
    "        X = pd.get_dummies(X, prefix=self.key)\n",
    "        test_columns = [col for col in X.columns]\n",
    "        for col_ in self.columns:\n",
    "            if col_ not in test_columns:\n",
    "                X[col_] = 0\n",
    "        return X[self.columns]\n",
    "    \n",
    "#class Normalize(BaseEstimator, TransformerMixin):\n",
    "    \n",
    "#    def __init__(self, column):\n",
    "#        self.column = column\n",
    "\n",
    "#    def fit(self, X, y=None):\n",
    "#        return self\n",
    "\n",
    "#    def transform(self, X):\n",
    "#        X = normalize(X)\n",
    "#        return X"
   ]
  },
  {
   "cell_type": "markdown",
   "metadata": {},
   "source": [
    "Зададим списки признаков"
   ]
  },
  {
   "cell_type": "code",
   "execution_count": 10,
   "metadata": {},
   "outputs": [],
   "source": [
    "categorical_columns = ['Geography', 'Gender', 'Tenure', 'HasCrCard', 'IsActiveMember']\n",
    "continuous_columns = ['CreditScore', 'Age', 'Balance', 'NumOfProducts', 'EstimatedSalary']"
   ]
  },
  {
   "cell_type": "markdown",
   "metadata": {},
   "source": [
    "Посмотрим как это работает на примере отдельного категориального признака - Gender"
   ]
  },
  {
   "cell_type": "code",
   "execution_count": 12,
   "metadata": {},
   "outputs": [
    {
     "data": {
      "text/html": [
       "<div>\n",
       "<style scoped>\n",
       "    .dataframe tbody tr th:only-of-type {\n",
       "        vertical-align: middle;\n",
       "    }\n",
       "\n",
       "    .dataframe tbody tr th {\n",
       "        vertical-align: top;\n",
       "    }\n",
       "\n",
       "    .dataframe thead th {\n",
       "        text-align: right;\n",
       "    }\n",
       "</style>\n",
       "<table border=\"1\" class=\"dataframe\">\n",
       "  <thead>\n",
       "    <tr style=\"text-align: right;\">\n",
       "      <th></th>\n",
       "      <th>Gender_Female</th>\n",
       "      <th>Gender_Male</th>\n",
       "    </tr>\n",
       "  </thead>\n",
       "  <tbody>\n",
       "    <tr>\n",
       "      <th>9394</th>\n",
       "      <td>1</td>\n",
       "      <td>0</td>\n",
       "    </tr>\n",
       "    <tr>\n",
       "      <th>898</th>\n",
       "      <td>1</td>\n",
       "      <td>0</td>\n",
       "    </tr>\n",
       "    <tr>\n",
       "      <th>2398</th>\n",
       "      <td>1</td>\n",
       "      <td>0</td>\n",
       "    </tr>\n",
       "  </tbody>\n",
       "</table>\n",
       "</div>"
      ],
      "text/plain": [
       "      Gender_Female  Gender_Male\n",
       "9394              1            0\n",
       "898               1            0\n",
       "2398              1            0"
      ]
     },
     "execution_count": 12,
     "metadata": {},
     "output_type": "execute_result"
    }
   ],
   "source": [
    "from sklearn.pipeline import Pipeline\n",
    "from sklearn.pipeline import FeatureUnion\n",
    "\n",
    "gender = Pipeline([\n",
    "                ('selector', FeatureSelector(column='Gender')),\n",
    "                ('ohe', OHEEncoder(key='Gender'))\n",
    "            ])\n",
    "gender.fit(X_train)\n",
    "gender.transform(X_test).head(3)"
   ]
  },
  {
   "cell_type": "markdown",
   "metadata": {},
   "source": [
    "Ананлогичный пример для вещественного признака (здесь мы не применяем какое-либо преобразование, а просто столбец как есть)"
   ]
  },
  {
   "cell_type": "code",
   "execution_count": 13,
   "metadata": {},
   "outputs": [
    {
     "data": {
      "text/html": [
       "<div>\n",
       "<style scoped>\n",
       "    .dataframe tbody tr th:only-of-type {\n",
       "        vertical-align: middle;\n",
       "    }\n",
       "\n",
       "    .dataframe tbody tr th {\n",
       "        vertical-align: top;\n",
       "    }\n",
       "\n",
       "    .dataframe thead th {\n",
       "        text-align: right;\n",
       "    }\n",
       "</style>\n",
       "<table border=\"1\" class=\"dataframe\">\n",
       "  <thead>\n",
       "    <tr style=\"text-align: right;\">\n",
       "      <th></th>\n",
       "      <th>Tenure</th>\n",
       "    </tr>\n",
       "  </thead>\n",
       "  <tbody>\n",
       "    <tr>\n",
       "      <th>9394</th>\n",
       "      <td>8</td>\n",
       "    </tr>\n",
       "    <tr>\n",
       "      <th>898</th>\n",
       "      <td>2</td>\n",
       "    </tr>\n",
       "    <tr>\n",
       "      <th>2398</th>\n",
       "      <td>8</td>\n",
       "    </tr>\n",
       "  </tbody>\n",
       "</table>\n",
       "</div>"
      ],
      "text/plain": [
       "      Tenure\n",
       "9394       8\n",
       "898        2\n",
       "2398       8"
      ]
     },
     "execution_count": 13,
     "metadata": {},
     "output_type": "execute_result"
    }
   ],
   "source": [
    "tenure =  Pipeline([\n",
    "                ('selector', NumberSelector(key='Tenure'))\n",
    "            ])\n",
    "\n",
    "tenure.fit(X_train)\n",
    "tenure.transform(X_test).head(3)"
   ]
  },
  {
   "cell_type": "markdown",
   "metadata": {},
   "source": [
    "Теперь нам нужно под каждый признак создать трансформер и объединить их в список (сделаем это в цикле, чтобы не мучиться)"
   ]
  },
  {
   "cell_type": "code",
   "execution_count": 14,
   "metadata": {},
   "outputs": [],
   "source": [
    "final_transformers = list()\n",
    "\n",
    "for cat_col in categorical_columns:\n",
    "    cat_transformer = Pipeline([\n",
    "                ('selector', FeatureSelector(column=cat_col)),\n",
    "                ('ohe', OHEEncoder(key=cat_col))\n",
    "            ])\n",
    "    final_transformers.append((cat_col, cat_transformer))\n",
    "    \n",
    "for cont_col in continuous_columns:\n",
    "    cont_transformer = Pipeline([\n",
    "                ('selector', NumberSelector(key=cont_col))\n",
    "            ])\n",
    "    final_transformers.append((cont_col, cont_transformer))"
   ]
  },
  {
   "cell_type": "markdown",
   "metadata": {},
   "source": [
    "Объединим все это в единый пайплайн"
   ]
  },
  {
   "cell_type": "code",
   "execution_count": 15,
   "metadata": {},
   "outputs": [],
   "source": [
    "feats = FeatureUnion(final_transformers)\n",
    "\n",
    "feature_processing = Pipeline([('feats', feats)])"
   ]
  },
  {
   "cell_type": "markdown",
   "metadata": {},
   "source": [
    "Теперь у нас есть пайплайн, который готовит признаки для моделирования.\n",
    "\n",
    "Добавим модель"
   ]
  },
  {
   "cell_type": "code",
   "execution_count": 16,
   "metadata": {},
   "outputs": [],
   "source": [
    "from sklearn.linear_model import LogisticRegression\n",
    "from sklearn.ensemble import GradientBoostingClassifier\n",
    "from sklearn.ensemble import RandomForestClassifier"
   ]
  },
  {
   "cell_type": "code",
   "execution_count": 17,
   "metadata": {},
   "outputs": [],
   "source": [
    "pipeline = Pipeline([\n",
    "    ('features',feats),\n",
    "    ('classifier', RandomForestClassifier(random_state = 42)),\n",
    "])"
   ]
  },
  {
   "cell_type": "markdown",
   "metadata": {},
   "source": [
    "Обучим модель"
   ]
  },
  {
   "cell_type": "code",
   "execution_count": 18,
   "metadata": {
    "scrolled": true
   },
   "outputs": [
    {
     "data": {
      "text/plain": [
       "Pipeline(steps=[('features',\n",
       "                 FeatureUnion(transformer_list=[('Geography',\n",
       "                                                 Pipeline(steps=[('selector',\n",
       "                                                                  FeatureSelector(column='Geography')),\n",
       "                                                                 ('ohe',\n",
       "                                                                  OHEEncoder(key='Geography'))])),\n",
       "                                                ('Gender',\n",
       "                                                 Pipeline(steps=[('selector',\n",
       "                                                                  FeatureSelector(column='Gender')),\n",
       "                                                                 ('ohe',\n",
       "                                                                  OHEEncoder(key='Gender'))])),\n",
       "                                                ('Tenure',\n",
       "                                                 Pipeline(steps=[('selector',\n",
       "                                                                  FeatureSelector(column='Tenu...\n",
       "                                                 Pipeline(steps=[('selector',\n",
       "                                                                  NumberSelector(key='Age'))])),\n",
       "                                                ('Balance',\n",
       "                                                 Pipeline(steps=[('selector',\n",
       "                                                                  NumberSelector(key='Balance'))])),\n",
       "                                                ('NumOfProducts',\n",
       "                                                 Pipeline(steps=[('selector',\n",
       "                                                                  NumberSelector(key='NumOfProducts'))])),\n",
       "                                                ('EstimatedSalary',\n",
       "                                                 Pipeline(steps=[('selector',\n",
       "                                                                  NumberSelector(key='EstimatedSalary'))]))])),\n",
       "                ('classifier', RandomForestClassifier(random_state=42))])"
      ]
     },
     "execution_count": 18,
     "metadata": {},
     "output_type": "execute_result"
    }
   ],
   "source": [
    "#обучим наш пайплайн\n",
    "pipeline.fit(X_train, y_train)"
   ]
  },
  {
   "cell_type": "code",
   "execution_count": 19,
   "metadata": {},
   "outputs": [
    {
     "data": {
      "text/plain": [
       "array([0.37, 0.25, 0.16, 0.02, 0.02, 0.67, 0.04, 0.13, 0.15, 0.75])"
      ]
     },
     "execution_count": 19,
     "metadata": {},
     "output_type": "execute_result"
    }
   ],
   "source": [
    "#наши прогнозы для тестовой выборки\n",
    "preds = pipeline.predict_proba(X_test)[:, 1]\n",
    "preds[:10]"
   ]
  },
  {
   "cell_type": "markdown",
   "metadata": {},
   "source": [
    "Также нам нужно от вероятностей перейти к меткам классов. Для этого нужно подобрать порог, после которого мы считаем, что объект можно отнести к классу 1 (если вероятность больше порога - размечаем объект как класс 1, если нет - класс 0)"
   ]
  },
  {
   "cell_type": "code",
   "execution_count": 20,
   "metadata": {},
   "outputs": [],
   "source": [
    "from sklearn.metrics import f1_score, roc_auc_score, precision_score, classification_report, precision_recall_curve, confusion_matrix"
   ]
  },
  {
   "cell_type": "code",
   "execution_count": 56,
   "metadata": {},
   "outputs": [],
   "source": [
    "precision, recall, thresholds = precision_recall_curve(y_test, preds)"
   ]
  },
  {
   "cell_type": "code",
   "execution_count": 57,
   "metadata": {},
   "outputs": [
    {
     "name": "stdout",
     "output_type": "stream",
     "text": [
      "Best Threshold=0.370000, F-Score=0.644, Precision=0.647, Recall=0.640\n"
     ]
    }
   ],
   "source": [
    "precision, recall, thresholds = precision_recall_curve(y_test, preds)\n",
    "fscore = (2 * precision * recall) / (precision + recall)\n",
    "# locate the index of the largest f score\n",
    "ix_rf= np.argmax(fscore)\n",
    "print('Best Threshold=%f, F-Score=%.3f, Precision=%.3f, Recall=%.3f' % (thresholds[ix_rf], \n",
    "                                                                        fscore[ix_rf],\n",
    "                                                                        precision[ix_rf],\n",
    "                                                                        recall[ix_rf]))"
   ]
  },
  {
   "cell_type": "markdown",
   "metadata": {},
   "source": [
    "#### Вопрос 1: объясните своими словами смысл метрик Precison, Recall *\n",
    "1. Какова их взаимосвязь и как с ними связан порог вероятности? \n",
    "2. Можно ли подобрать порог так, что recall будет равен 1? Что при этом будет с precision\n",
    "3. Аналогичный вопрос про precision"
   ]
  },
  {
   "cell_type": "markdown",
   "metadata": {},
   "source": [
    "Ваш ответ здесь:"
   ]
  },
  {
   "cell_type": "markdown",
   "metadata": {},
   "source": []
  },
  {
   "cell_type": "markdown",
   "metadata": {},
   "source": [
    "Отрисуем матрицу ошибок"
   ]
  },
  {
   "cell_type": "code",
   "execution_count": 58,
   "metadata": {},
   "outputs": [],
   "source": [
    "def plot_confusion_matrix(cm, classes,\n",
    "                          normalize=False,\n",
    "                          title='Confusion matrix',\n",
    "                          cmap=plt.cm.Blues):\n",
    "    \"\"\"\n",
    "    This function prints and plots the confusion matrix.\n",
    "    Normalization can be applied by setting `normalize=True`.\n",
    "    \"\"\"\n",
    "    plt.imshow(cm, interpolation='nearest', cmap=cmap)\n",
    "    plt.title(title)\n",
    "    plt.colorbar()\n",
    "    tick_marks = np.arange(len(classes))\n",
    "    plt.xticks(tick_marks, classes, rotation=45)\n",
    "    plt.yticks(tick_marks, classes)\n",
    "\n",
    "    if normalize:\n",
    "        cm = cm.astype('float') / cm.sum(axis=1)[:, np.newaxis]\n",
    "        print(\"Normalized confusion matrix\")\n",
    "    else:\n",
    "        print('Confusion matrix, without normalization')\n",
    "\n",
    "    print(cm)\n",
    "\n",
    "    thresh = cm.max() / 2.\n",
    "    for i, j in itertools.product(range(cm.shape[0]), range(cm.shape[1])):\n",
    "        plt.text(j, i, cm[i, j],\n",
    "                 horizontalalignment=\"center\",\n",
    "                 color=\"white\" if cm[i, j] > thresh else \"black\")\n",
    "\n",
    "    plt.tight_layout()\n",
    "    plt.ylabel('True label')\n",
    "    plt.xlabel('Predicted label')"
   ]
  },
  {
   "cell_type": "code",
   "execution_count": 59,
   "metadata": {},
   "outputs": [
    {
     "name": "stdout",
     "output_type": "stream",
     "text": [
      "Confusion matrix, without normalization\n",
      "[[1821  170]\n",
      " [ 190  319]]\n"
     ]
    },
    {
     "data": {
      "image/png": "[encoded data removed]",
      "text/plain": [
       "<Figure size 720x576 with 2 Axes>"
      ]
     },
     "metadata": {
      "needs_background": "light"
     },
     "output_type": "display_data"
    }
   ],
   "source": [
    "#мы уже нашли ранее \"оптимальный\" порог, когда максимизировали f_score\n",
    "font = {'size' : 15}\n",
    "\n",
    "plt.rc('font', **font)\n",
    "\n",
    "cnf_matrix = confusion_matrix(y_test, preds>thresholds[ix_rf])\n",
    "plt.figure(figsize=(10, 8))\n",
    "plot_confusion_matrix(cnf_matrix, classes=['NonChurn', 'Churn'],\n",
    "                      title='Confusion matrix')\n",
    "plt.savefig(\"conf_matrix.png\")\n",
    "plt.show()"
   ]
  },
  {
   "cell_type": "markdown",
   "metadata": {},
   "source": [
    "### Попробуем градиентынй бустинг"
   ]
  },
  {
   "cell_type": "code",
   "execution_count": 25,
   "metadata": {},
   "outputs": [],
   "source": [
    "pipeline_gbc = Pipeline([\n",
    "    ('features',feats),\n",
    "    ('classifier', GradientBoostingClassifier()),\n",
    "])"
   ]
  },
  {
   "cell_type": "code",
   "execution_count": 26,
   "metadata": {},
   "outputs": [
    {
     "data": {
      "text/plain": [
       "Pipeline(steps=[('features',\n",
       "                 FeatureUnion(transformer_list=[('Geography',\n",
       "                                                 Pipeline(steps=[('selector',\n",
       "                                                                  FeatureSelector(column='Geography')),\n",
       "                                                                 ('ohe',\n",
       "                                                                  OHEEncoder(key='Geography'))])),\n",
       "                                                ('Gender',\n",
       "                                                 Pipeline(steps=[('selector',\n",
       "                                                                  FeatureSelector(column='Gender')),\n",
       "                                                                 ('ohe',\n",
       "                                                                  OHEEncoder(key='Gender'))])),\n",
       "                                                ('Tenure',\n",
       "                                                 Pipeline(steps=[('selector',\n",
       "                                                                  FeatureSelector(column='Tenu...\n",
       "                                                 Pipeline(steps=[('selector',\n",
       "                                                                  NumberSelector(key='Age'))])),\n",
       "                                                ('Balance',\n",
       "                                                 Pipeline(steps=[('selector',\n",
       "                                                                  NumberSelector(key='Balance'))])),\n",
       "                                                ('NumOfProducts',\n",
       "                                                 Pipeline(steps=[('selector',\n",
       "                                                                  NumberSelector(key='NumOfProducts'))])),\n",
       "                                                ('EstimatedSalary',\n",
       "                                                 Pipeline(steps=[('selector',\n",
       "                                                                  NumberSelector(key='EstimatedSalary'))]))])),\n",
       "                ('classifier', GradientBoostingClassifier())])"
      ]
     },
     "execution_count": 26,
     "metadata": {},
     "output_type": "execute_result"
    }
   ],
   "source": [
    "pipeline_gbc.fit(X_train, y_train)"
   ]
  },
  {
   "cell_type": "code",
   "execution_count": 62,
   "metadata": {},
   "outputs": [
    {
     "data": {
      "text/plain": [
       "array([0.28502357, 0.22926788, 0.1982218 , 0.08930468, 0.04798288,\n",
       "       0.80662596, 0.03834531, 0.05054472, 0.31038377, 0.73455865])"
      ]
     },
     "execution_count": 62,
     "metadata": {},
     "output_type": "execute_result"
    }
   ],
   "source": [
    "preds_gb = pipeline_gbc.predict_proba(X_test)[:, 1]\n",
    "preds_gb[:10]"
   ]
  },
  {
   "cell_type": "code",
   "execution_count": 63,
   "metadata": {},
   "outputs": [],
   "source": [
    "precision, recall, thresholds = precision_recall_curve(y_test, preds_gbc)"
   ]
  },
  {
   "cell_type": "code",
   "execution_count": 64,
   "metadata": {},
   "outputs": [
    {
     "name": "stdout",
     "output_type": "stream",
     "text": [
      "Best Threshold=0.408508, F-Score=0.646, Precision=0.704, Recall=0.597\n"
     ]
    }
   ],
   "source": [
    "recision, recall, thresholds = precision_recall_curve(y_test, preds_gb)\n",
    "fscore = (2 * precision * recall) / (precision + recall)\n",
    "# locate the index of the largest f score\n",
    "ix_gb= np.argmax(fscore)\n",
    "print('Best Threshold=%f, F-Score=%.3f, Precision=%.3f, Recall=%.3f' % (thresholds[ix_gb], \n",
    "                                                                        fscore[ix_gb],\n",
    "                                                                        precision[ix_gb],\n",
    "                                                                        recall[ix_gb]))"
   ]
  },
  {
   "cell_type": "code",
   "execution_count": 65,
   "metadata": {},
   "outputs": [
    {
     "name": "stdout",
     "output_type": "stream",
     "text": [
      "Confusion matrix, without normalization\n",
      "[[1863  128]\n",
      " [ 206  303]]\n"
     ]
    },
    {
     "data": {
      "image/png": "[encoded data removed]",
      "text/plain": [
       "<Figure size 720x576 with 2 Axes>"
      ]
     },
     "metadata": {
      "needs_background": "light"
     },
     "output_type": "display_data"
    }
   ],
   "source": [
    "font = {'size' : 15}\n",
    "\n",
    "plt.rc('font', **font)\n",
    "\n",
    "cnf_matrix_gb = confusion_matrix(y_test, preds_gb>thresholds[ix_gb])\n",
    "plt.figure(figsize=(10, 8))\n",
    "plot_confusion_matrix(cnf_matrix_gb, classes=['NonChurn', 'Churn'],\n",
    "                      title='Confusion matrix-GB')\n",
    "plt.savefig(\"conf_matrix_gb.png\")\n",
    "plt.show()"
   ]
  },
  {
   "cell_type": "markdown",
   "metadata": {},
   "source": [
    "### Теперь логистическую регрессию"
   ]
  },
  {
   "cell_type": "code",
   "execution_count": 31,
   "metadata": {},
   "outputs": [],
   "source": [
    "pipeline_ls = Pipeline([\n",
    "    ('features',feats),\n",
    "    ('classifier', LogisticRegression(random_state=42, max_iter=250, multi_class=\"ovr\")),\n",
    "])"
   ]
  },
  {
   "cell_type": "code",
   "execution_count": 32,
   "metadata": {},
   "outputs": [
    {
     "data": {
      "text/plain": [
       "Pipeline(steps=[('features',\n",
       "                 FeatureUnion(transformer_list=[('Geography',\n",
       "                                                 Pipeline(steps=[('selector',\n",
       "                                                                  FeatureSelector(column='Geography')),\n",
       "                                                                 ('ohe',\n",
       "                                                                  OHEEncoder(key='Geography'))])),\n",
       "                                                ('Gender',\n",
       "                                                 Pipeline(steps=[('selector',\n",
       "                                                                  FeatureSelector(column='Gender')),\n",
       "                                                                 ('ohe',\n",
       "                                                                  OHEEncoder(key='Gender'))])),\n",
       "                                                ('Tenure',\n",
       "                                                 Pipeline(steps=[('selector',\n",
       "                                                                  FeatureSelector(column='Tenu...\n",
       "                                                                  NumberSelector(key='Age'))])),\n",
       "                                                ('Balance',\n",
       "                                                 Pipeline(steps=[('selector',\n",
       "                                                                  NumberSelector(key='Balance'))])),\n",
       "                                                ('NumOfProducts',\n",
       "                                                 Pipeline(steps=[('selector',\n",
       "                                                                  NumberSelector(key='NumOfProducts'))])),\n",
       "                                                ('EstimatedSalary',\n",
       "                                                 Pipeline(steps=[('selector',\n",
       "                                                                  NumberSelector(key='EstimatedSalary'))]))])),\n",
       "                ('classifier',\n",
       "                 LogisticRegression(max_iter=250, multi_class='ovr',\n",
       "                                    random_state=42))])"
      ]
     },
     "execution_count": 32,
     "metadata": {},
     "output_type": "execute_result"
    }
   ],
   "source": [
    "pipeline_ls.fit(X_train, y_train)"
   ]
  },
  {
   "cell_type": "code",
   "execution_count": 66,
   "metadata": {},
   "outputs": [
    {
     "data": {
      "text/plain": [
       "array([0.22159319, 0.32482479, 0.15215445, 0.11395955, 0.13603971,\n",
       "       0.5692312 , 0.06076064, 0.06216008, 0.42349493, 0.7085842 ])"
      ]
     },
     "execution_count": 66,
     "metadata": {},
     "output_type": "execute_result"
    }
   ],
   "source": [
    "preds_ls= pipeline_ls.predict_proba(X_test)[:, 1]\n",
    "preds_ls[:10]"
   ]
  },
  {
   "cell_type": "code",
   "execution_count": 67,
   "metadata": {},
   "outputs": [],
   "source": [
    "precision, recall, thresholds = precision_recall_curve(y_test, preds_ls)"
   ]
  },
  {
   "cell_type": "code",
   "execution_count": 68,
   "metadata": {},
   "outputs": [
    {
     "name": "stdout",
     "output_type": "stream",
     "text": [
      "Best Threshold=0.275242, F-Score=0.501, Precision=0.439, Recall=0.583\n"
     ]
    }
   ],
   "source": [
    "fscore = (2 * precision * recall) / (precision + recall)\n",
    "# locate the index of the largest f score\n",
    "ix_ls = np.argmax(fscore)\n",
    "print('Best Threshold=%f, F-Score=%.3f, Precision=%.3f, Recall=%.3f' % (thresholds[ix_ls], \n",
    "                                                                        fscore[ix_ls],\n",
    "                                                                        precision[ix_ls],\n",
    "                                                                        recall[ix_ls]))"
   ]
  },
  {
   "cell_type": "code",
   "execution_count": 70,
   "metadata": {},
   "outputs": [
    {
     "name": "stdout",
     "output_type": "stream",
     "text": [
      "Confusion matrix, without normalization\n",
      "[[1612  379]\n",
      " [ 213  296]]\n"
     ]
    },
    {
     "data": {
      "image/png": "[encoded data removed]",
      "text/plain": [
       "<Figure size 720x576 with 2 Axes>"
      ]
     },
     "metadata": {
      "needs_background": "light"
     },
     "output_type": "display_data"
    }
   ],
   "source": [
    "font = {'size' : 15}\n",
    "\n",
    "plt.rc('font', **font)\n",
    "\n",
    "cnf_matrix_ls = confusion_matrix(y_test,preds_ls>thresholds[ix_ls])\n",
    "plt.figure(figsize=(10, 8))\n",
    "plot_confusion_matrix(cnf_matrix_ls, classes=['NonChurn', 'Churn'],\n",
    "                      title='Confusion matrix_ls')\n",
    "plt.savefig(\"conf_matrix_ls.png\")\n",
    "plt.show()"
   ]
  },
  {
   "cell_type": "markdown",
   "metadata": {},
   "source": [
    "Можно заметить, что мы очень сильно ошибаемся в сторону False Negatives, т.е у нас много тех, кто ушел в отток на самом деле, но при выбранном нами пороге в 0.38 мы не считаем их таковыми. "
   ]
  },
  {
   "cell_type": "markdown",
   "metadata": {},
   "source": [
    "<b>Вопрос 2: предположим, что на удержание одного пользователя у нас уйдет 1 доллар. При этом средняя ожидаемая прибыль с каждого TP (true positive) - 2 доллара. Оцените качество модели выше с учетом этих данных и ответьте на вопрос, является ли она потенциально экономически целесообразной?</b>"
   ]
  },
  {
   "cell_type": "markdown",
   "metadata": {},
   "source": [
    "Ваш ответ здесь: "
   ]
  },
  {
   "cell_type": "code",
   "execution_count": 73,
   "metadata": {},
   "outputs": [],
   "source": [
    "roc_auc_gb=roc_auc_score(y_test, preds_gb)\n",
    "roc_auc_rf=roc_auc_score(y_test, preds)\n",
    "roc_auc_ls=roc_auc_score(y_test, preds_ls)"
   ]
  },
  {
   "cell_type": "code",
   "execution_count": 97,
   "metadata": {},
   "outputs": [
    {
     "data": {
      "text/html": [
       "<style  type=\"text/css\" >\n",
       "</style><table id=\"T_5628044d_2297_11eb_9ee5_d5575e15e136\" ><thead>    <tr>        <th class=\"col_heading level0 col0\" >model</th>        <th class=\"col_heading level0 col1\" >Roc_auc</th>        <th class=\"col_heading level0 col2\" >F-score</th>        <th class=\"col_heading level0 col3\" >Precision</th>        <th class=\"col_heading level0 col4\" >Recall</th>        <th class=\"col_heading level0 col5\" >TP_Churn</th>        <th class=\"col_heading level0 col6\" >FP_Churn</th>        <th class=\"col_heading level0 col7\" >Cost on hold in $</th>        <th class=\"col_heading level0 col8\" >Profit on hold in $</th>        <th class=\"col_heading level0 col9\" >Value on hold in $</th>    </tr></thead><tbody>\n",
       "                <tr>\n",
       "                                <td id=\"T_5628044d_2297_11eb_9ee5_d5575e15e136row0_col0\" class=\"data row0 col0\" >LogisticRegression</td>\n",
       "                        <td id=\"T_5628044d_2297_11eb_9ee5_d5575e15e136row0_col1\" class=\"data row0 col1\" >0.766</td>\n",
       "                        <td id=\"T_5628044d_2297_11eb_9ee5_d5575e15e136row0_col2\" class=\"data row0 col2\" >0.501</td>\n",
       "                        <td id=\"T_5628044d_2297_11eb_9ee5_d5575e15e136row0_col3\" class=\"data row0 col3\" >0.439</td>\n",
       "                        <td id=\"T_5628044d_2297_11eb_9ee5_d5575e15e136row0_col4\" class=\"data row0 col4\" >0.583</td>\n",
       "                        <td id=\"T_5628044d_2297_11eb_9ee5_d5575e15e136row0_col5\" class=\"data row0 col5\" >296</td>\n",
       "                        <td id=\"T_5628044d_2297_11eb_9ee5_d5575e15e136row0_col6\" class=\"data row0 col6\" >379</td>\n",
       "                        <td id=\"T_5628044d_2297_11eb_9ee5_d5575e15e136row0_col7\" class=\"data row0 col7\" >675</td>\n",
       "                        <td id=\"T_5628044d_2297_11eb_9ee5_d5575e15e136row0_col8\" class=\"data row0 col8\" >592</td>\n",
       "                        <td id=\"T_5628044d_2297_11eb_9ee5_d5575e15e136row0_col9\" class=\"data row0 col9\" >-83</td>\n",
       "            </tr>\n",
       "            <tr>\n",
       "                                <td id=\"T_5628044d_2297_11eb_9ee5_d5575e15e136row1_col0\" class=\"data row1 col0\" >GradientBoostingClassifier</td>\n",
       "                        <td id=\"T_5628044d_2297_11eb_9ee5_d5575e15e136row1_col1\" class=\"data row1 col1\" >0.876</td>\n",
       "                        <td id=\"T_5628044d_2297_11eb_9ee5_d5575e15e136row1_col2\" class=\"data row1 col2\" >0.491</td>\n",
       "                        <td id=\"T_5628044d_2297_11eb_9ee5_d5575e15e136row1_col3\" class=\"data row1 col3\" >0.465</td>\n",
       "                        <td id=\"T_5628044d_2297_11eb_9ee5_d5575e15e136row1_col4\" class=\"data row1 col4\" >0.521</td>\n",
       "                        <td id=\"T_5628044d_2297_11eb_9ee5_d5575e15e136row1_col5\" class=\"data row1 col5\" >303</td>\n",
       "                        <td id=\"T_5628044d_2297_11eb_9ee5_d5575e15e136row1_col6\" class=\"data row1 col6\" >128</td>\n",
       "                        <td id=\"T_5628044d_2297_11eb_9ee5_d5575e15e136row1_col7\" class=\"data row1 col7\" >431</td>\n",
       "                        <td id=\"T_5628044d_2297_11eb_9ee5_d5575e15e136row1_col8\" class=\"data row1 col8\" >606</td>\n",
       "                        <td id=\"T_5628044d_2297_11eb_9ee5_d5575e15e136row1_col9\" class=\"data row1 col9\" >175</td>\n",
       "            </tr>\n",
       "            <tr>\n",
       "                                <td id=\"T_5628044d_2297_11eb_9ee5_d5575e15e136row2_col0\" class=\"data row2 col0\" >RandomForestClassifier</td>\n",
       "                        <td id=\"T_5628044d_2297_11eb_9ee5_d5575e15e136row2_col1\" class=\"data row2 col1\" >0.864</td>\n",
       "                        <td id=\"T_5628044d_2297_11eb_9ee5_d5575e15e136row2_col2\" class=\"data row2 col2\" >0.34</td>\n",
       "                        <td id=\"T_5628044d_2297_11eb_9ee5_d5575e15e136row2_col3\" class=\"data row2 col3\" >0.205</td>\n",
       "                        <td id=\"T_5628044d_2297_11eb_9ee5_d5575e15e136row2_col4\" class=\"data row2 col4\" >0.992</td>\n",
       "                        <td id=\"T_5628044d_2297_11eb_9ee5_d5575e15e136row2_col5\" class=\"data row2 col5\" >319</td>\n",
       "                        <td id=\"T_5628044d_2297_11eb_9ee5_d5575e15e136row2_col6\" class=\"data row2 col6\" >170</td>\n",
       "                        <td id=\"T_5628044d_2297_11eb_9ee5_d5575e15e136row2_col7\" class=\"data row2 col7\" >489</td>\n",
       "                        <td id=\"T_5628044d_2297_11eb_9ee5_d5575e15e136row2_col8\" class=\"data row2 col8\" >638</td>\n",
       "                        <td id=\"T_5628044d_2297_11eb_9ee5_d5575e15e136row2_col9\" class=\"data row2 col9\" >149</td>\n",
       "            </tr>\n",
       "    </tbody></table>"
      ],
      "text/plain": [
       "<pandas.io.formats.style.Styler at 0x23aecb82910>"
      ]
     },
     "execution_count": 97,
     "metadata": {},
     "output_type": "execute_result"
    }
   ],
   "source": [
    "model=(\"LogisticRegression\", \"GradientBoostingClassifier\", \"RandomForestClassifier\")\n",
    "df_total= pd.DataFrame({'model':model,\n",
    "                        'Roc_auc':[roc_auc_ls, roc_auc_gb, roc_auc_rf],\n",
    "                        'F-score':[fscore[ix_ls],fscore[ix_gb],fscore[ix_rf]],\n",
    "                        'Precision':[precision[ix_ls],precision[ix_gb],precision[ix_rf]],\n",
    "                        'Recall':[recall[ix_ls],recall[ix_gb],recall[ix_rf]],\n",
    "                        'TP_Churn':[cnf_matrix_ls[1][1],cnf_matrix_gb[1][1],cnf_matrix[1][1]],\n",
    "                        'FP_Churn':[cnf_matrix_ls[0][1],cnf_matrix_gb[0][1],cnf_matrix[0][1]],\n",
    "                        'Cost on hold in $':[cnf_matrix_ls[0][1]+cnf_matrix_ls[1][1],cnf_matrix_gb[0][1]+cnf_matrix_gb[1][1],cnf_matrix[0][1]+cnf_matrix[1][1]],\n",
    "                        'Profit on hold in $':[cnf_matrix_ls[1][1]*2,cnf_matrix_gb[1][1]*2,cnf_matrix[1][1]*2],\n",
    "                        'Value on hold in $':[cnf_matrix_ls[1][1]*2-(cnf_matrix_ls[0][1]+cnf_matrix_ls[1][1]),cnf_matrix_gb[1][1]*2-(cnf_matrix_gb[0][1]+cnf_matrix_gb[1][1]),cnf_matrix[1][1]*2-(cnf_matrix[0][1]+cnf_matrix[1][1])]})\n",
    "df_total.style.hide_index().format({'Roc_auc': \"{:.3}\", 'F-score': \"{:.3}\",'Precision': \"{:.3}\",'Recall': \"{:.3}\"})"
   ]
  },
  {
   "cell_type": "markdown",
   "metadata": {},
   "source": [
    "Очивидно, что градиентный бустинг дает лучший резальтат как по класификации так и в финасовом плане.\n"
   ]
  },
  {
   "cell_type": "markdown",
   "metadata": {},
   "source": [
    "### 2. Отобрать лучшую модель по метрикам (кстати, какая по вашему мнению здесь наиболее подходящая DS-метрика)"
   ]
  },
  {
   "cell_type": "markdown",
   "metadata": {},
   "source": [
    "Мне кажется, что самые оптимальные метрики это Roc_auс в сочетаинии с Confusion matrix.\n",
    "Мне матрица ошибок осбоенно нравится так как можно подобрать экономически цлелсообрадный параметр. \n"
   ]
  },
  {
   "cell_type": "markdown",
   "metadata": {},
   "source": [
    "### Домашнее задание"
   ]
  },
  {
   "cell_type": "markdown",
   "metadata": {},
   "source": [
    "1. Для нашего пайплайна поэкспериментировать с разными моделями: 1 - бустинг, 2 - логистическая регрессия (не забудьте здесь добавить в cont_transformer стандартизацию - нормирование вещественных признаков)\n",
    "2. Отобрать лучшую модель по метрикам (кстати, какая по вашему мнению здесь наиболее подходящая DS-метрика)\n",
    "3. Для отобранной модели (на отложенной выборке) сделать оценку экономической эффективности при тех же вводных, как в вопросе 2 (1 доллар на привлечение, 2 доллара - с каждого правильно классифицированного (True Positive) удержанного). (подсказка) нужно посчитать FP/TP/FN/TN для выбранного оптимального порога вероятности и посчитать выручку и траты. \n",
    "4. (опционально) Провести подбор гиперпараметров лучшей модели по итогам 2-3\n",
    "5. (опционально) Еще раз провести оценку экономической эффективности"
   ]
  },
  {
   "cell_type": "markdown",
   "metadata": {},
   "source": [
    "### Ссылки"
   ]
  },
  {
   "cell_type": "markdown",
   "metadata": {},
   "source": [
    "1. http://hyperopt.github.io/hyperopt/\n",
    "2. https://arxiv.org/pdf/1907.03947.pdf\n",
    "3. https://arxiv.org/list/stat.ML/recent"
   ]
  },
  {
   "cell_type": "code",
   "execution_count": null,
   "metadata": {},
   "outputs": [],
   "source": []
  }
 ],
 "metadata": {
  "kernelspec": {
   "display_name": "Python 3",
   "language": "python",
   "name": "python3"
  },
  "language_info": {
   "codemirror_mode": {
    "name": "ipython",
    "version": 3
   },
   "file_extension": ".py",
   "mimetype": "text/x-python",
   "name": "python",
   "nbconvert_exporter": "python",
   "pygments_lexer": "ipython3",
   "version": "3.8.3"
  }
 },
 "nbformat": 4,
 "nbformat_minor": 2
}
